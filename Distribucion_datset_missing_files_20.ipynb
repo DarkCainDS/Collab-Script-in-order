{
  "nbformat": 4,
  "nbformat_minor": 0,
  "metadata": {
    "colab": {
      "provenance": []
    },
    "kernelspec": {
      "name": "python3",
      "display_name": "Python 3"
    },
    "language_info": {
      "name": "python"
    }
  },
  "cells": [
    {
      "cell_type": "code",
      "execution_count": null,
      "metadata": {
        "id": "dPdh5bWhNGd4"
      },
      "outputs": [],
      "source": [
        "import os\n",
        "import zipfile\n",
        "local_zip = \"dataset_filtrado.zip\"\n",
        "zip_ref = zipfile.ZipFile(local_zip, \"r\")\n",
        "zip_ref.extractall(\"dataset_filtrado\")\n",
        "zip_ref.close()"
      ]
    },
    {
      "cell_type": "code",
      "source": [
        "path = \"dataset_filtrado/dataset_filtrado\"\n",
        "content = os.listdir(path)"
      ],
      "metadata": {
        "id": "MYK4x2oiN7he"
      },
      "execution_count": null,
      "outputs": []
    },
    {
      "cell_type": "code",
      "source": [
        "content"
      ],
      "metadata": {
        "colab": {
          "base_uri": "https://localhost:8080/"
        },
        "id": "NUcsAyriOIKq",
        "outputId": "589d91d4-ada6-4cb3-cc8d-28dd602025ec"
      },
      "execution_count": null,
      "outputs": [
        {
          "output_type": "execute_result",
          "data": {
            "text/plain": [
              "['007d086a0d.jpg',\n",
              " '1180fcd71f.jpg',\n",
              " 'd01c4bbb38.jpg',\n",
              " '66d55e26e2.jpg',\n",
              " 'c4054a8f2c.jpg',\n",
              " 'cbb99fc122.jpg',\n",
              " 'abdbb7257d.jpg',\n",
              " '2efb6c3c82.jpg',\n",
              " '95614aebd9.jpg',\n",
              " 'cf8db02eac.jpg',\n",
              " 'e79711e10f.jpg',\n",
              " '6450b21594.jpg',\n",
              " '4848bc97c4.jpg',\n",
              " '2fdd9eb661.jpg',\n",
              " '717e612946.jpg',\n",
              " 'ea2cb5917b.jpg',\n",
              " '486107bbf0.jpg',\n",
              " '8a98fca468.jpg',\n",
              " '38073088aa.jpg',\n",
              " '3b2d25d42c.jpg',\n",
              " '2b37a718bc.jpg',\n",
              " '2c7120c43a.jpg',\n",
              " '2feaa7dff6.jpg',\n",
              " 'e4927496c4.jpg',\n",
              " '2c3ae2799b.jpg',\n",
              " '89c26158c4.jpg',\n",
              " '8e933395c2.jpg',\n",
              " '744ca71f5a.jpg',\n",
              " '7490c9ba04.jpg',\n",
              " '576c712438.jpg',\n",
              " 'e22a1fc8c5.jpg',\n",
              " '39339a1089.jpg',\n",
              " '18cf3b73b6.jpg',\n",
              " 'f8a2cc7848.jpg',\n",
              " '07ffa35d1f.jpg',\n",
              " 'f74248c57f.jpg',\n",
              " '93407ba6ac.jpg',\n",
              " '6f65ac7a0a.jpg',\n",
              " '0414eb4d03.jpg',\n",
              " 'fc15988c9a.jpg',\n",
              " '3ec8255ddd.jpg',\n",
              " 'b59018d131.jpg',\n",
              " 'b22ad30e1b.jpg',\n",
              " 'c554e9b7b4.jpg',\n",
              " '37e9f4c722.jpg',\n",
              " '0c535fcdfa.jpg',\n",
              " '530a817c7a.jpg',\n",
              " '533dd3ae49.jpg',\n",
              " 'bf5b9af373.jpg',\n",
              " '53f2146ec4.jpg',\n",
              " '636e60da4d.jpg',\n",
              " '42e14b904b.jpg',\n",
              " '5cc8e6c42d.jpg',\n",
              " '34db31dbb7.jpg',\n",
              " 'e02950195f.jpg',\n",
              " 'ea8ce9da21.jpg',\n",
              " 'e9379064f8.jpg']"
            ]
          },
          "metadata": {},
          "execution_count": 15
        }
      ]
    },
    {
      "cell_type": "code",
      "source": [
        "path_general = \"datasetFinal\"\n",
        "path_train = \"{}/train\".format(path_general)\n",
        "path_test = \"{}/test\".format(path_general)\n",
        "\n",
        "os.mkdir(path_general)\n",
        "os.mkdir(path_train)\n",
        "os.mkdir(path_test)"
      ],
      "metadata": {
        "colab": {
          "base_uri": "https://localhost:8080/",
          "height": 235
        },
        "id": "P5BX2_JvOKwM",
        "outputId": "153dc43d-9b3e-4f45-fd5e-f00a88463d39"
      },
      "execution_count": null,
      "outputs": [
        {
          "output_type": "error",
          "ename": "FileExistsError",
          "evalue": "ignored",
          "traceback": [
            "\u001b[0;31m---------------------------------------------------------------------------\u001b[0m",
            "\u001b[0;31mFileExistsError\u001b[0m                           Traceback (most recent call last)",
            "\u001b[0;32m<ipython-input-20-b77083e2561a>\u001b[0m in \u001b[0;36m<cell line: 5>\u001b[0;34m()\u001b[0m\n\u001b[1;32m      3\u001b[0m \u001b[0mpath_test\u001b[0m \u001b[0;34m=\u001b[0m \u001b[0;34m\"{}/test\"\u001b[0m\u001b[0;34m.\u001b[0m\u001b[0mformat\u001b[0m\u001b[0;34m(\u001b[0m\u001b[0mpath_general\u001b[0m\u001b[0;34m)\u001b[0m\u001b[0;34m\u001b[0m\u001b[0;34m\u001b[0m\u001b[0m\n\u001b[1;32m      4\u001b[0m \u001b[0;34m\u001b[0m\u001b[0m\n\u001b[0;32m----> 5\u001b[0;31m \u001b[0mos\u001b[0m\u001b[0;34m.\u001b[0m\u001b[0mmkdir\u001b[0m\u001b[0;34m(\u001b[0m\u001b[0mpath_general\u001b[0m\u001b[0;34m)\u001b[0m\u001b[0;34m\u001b[0m\u001b[0;34m\u001b[0m\u001b[0m\n\u001b[0m\u001b[1;32m      6\u001b[0m \u001b[0mos\u001b[0m\u001b[0;34m.\u001b[0m\u001b[0mmkdir\u001b[0m\u001b[0;34m(\u001b[0m\u001b[0mpath_train\u001b[0m\u001b[0;34m)\u001b[0m\u001b[0;34m\u001b[0m\u001b[0;34m\u001b[0m\u001b[0m\n\u001b[1;32m      7\u001b[0m \u001b[0mos\u001b[0m\u001b[0;34m.\u001b[0m\u001b[0mmkdir\u001b[0m\u001b[0;34m(\u001b[0m\u001b[0mpath_test\u001b[0m\u001b[0;34m)\u001b[0m\u001b[0;34m\u001b[0m\u001b[0;34m\u001b[0m\u001b[0m\n",
            "\u001b[0;31mFileExistsError\u001b[0m: [Errno 17] File exists: 'datasetFinal'"
          ]
        }
      ]
    },
    {
      "cell_type": "code",
      "source": [
        "import random\n",
        "import shutil\n",
        "\n",
        "train = 0.7\n",
        "for nCount in range(int(len(content)*train)):\n",
        "  random_choice_img = random.choice(content)\n",
        "  random_choice_absolute = \"{}/{}\".format(path_train, random_choice_img)\n",
        "  target_img = \"{}/{}\".format(path_test, random_choice_img)\n",
        "  shutil.copyfile"
      ],
      "metadata": {
        "colab": {
          "base_uri": "https://localhost:8080/",
          "height": 235
        },
        "id": "ANrxnu08Oi4F",
        "outputId": "5778f627-6e70-484e-8266-bcfa85831a6e"
      },
      "execution_count": null,
      "outputs": [
        {
          "output_type": "error",
          "ename": "NameError",
          "evalue": "ignored",
          "traceback": [
            "\u001b[0;31m---------------------------------------------------------------------------\u001b[0m",
            "\u001b[0;31mNameError\u001b[0m                                 Traceback (most recent call last)",
            "\u001b[0;32m<ipython-input-1-4861b7c7f206>\u001b[0m in \u001b[0;36m<cell line: 5>\u001b[0;34m()\u001b[0m\n\u001b[1;32m      3\u001b[0m \u001b[0;34m\u001b[0m\u001b[0m\n\u001b[1;32m      4\u001b[0m \u001b[0mtrain\u001b[0m \u001b[0;34m=\u001b[0m \u001b[0;36m0.7\u001b[0m\u001b[0;34m\u001b[0m\u001b[0;34m\u001b[0m\u001b[0m\n\u001b[0;32m----> 5\u001b[0;31m \u001b[0;32mfor\u001b[0m \u001b[0mnCount\u001b[0m \u001b[0;32min\u001b[0m \u001b[0mrange\u001b[0m\u001b[0;34m(\u001b[0m\u001b[0mint\u001b[0m\u001b[0;34m(\u001b[0m\u001b[0mlen\u001b[0m\u001b[0;34m(\u001b[0m\u001b[0mcontent\u001b[0m\u001b[0;34m)\u001b[0m\u001b[0;34m*\u001b[0m\u001b[0mtrain\u001b[0m\u001b[0;34m)\u001b[0m\u001b[0;34m)\u001b[0m\u001b[0;34m:\u001b[0m\u001b[0;34m\u001b[0m\u001b[0;34m\u001b[0m\u001b[0m\n\u001b[0m\u001b[1;32m      6\u001b[0m   \u001b[0mrandom_choice_img\u001b[0m \u001b[0;34m=\u001b[0m \u001b[0mrandom\u001b[0m\u001b[0;34m.\u001b[0m\u001b[0mchoice\u001b[0m\u001b[0;34m(\u001b[0m\u001b[0mcontent\u001b[0m\u001b[0;34m)\u001b[0m\u001b[0;34m\u001b[0m\u001b[0;34m\u001b[0m\u001b[0m\n\u001b[1;32m      7\u001b[0m   \u001b[0mrandom_choice_absolute\u001b[0m \u001b[0;34m=\u001b[0m \u001b[0;34m\"{}/{}\"\u001b[0m\u001b[0;34m.\u001b[0m\u001b[0mformat\u001b[0m\u001b[0;34m(\u001b[0m\u001b[0mpath_train\u001b[0m\u001b[0;34m,\u001b[0m \u001b[0mrandom_choice_img\u001b[0m\u001b[0;34m)\u001b[0m\u001b[0;34m\u001b[0m\u001b[0;34m\u001b[0m\u001b[0m\n",
            "\u001b[0;31mNameError\u001b[0m: name 'content' is not defined"
          ]
        }
      ]
    }
  ]
}