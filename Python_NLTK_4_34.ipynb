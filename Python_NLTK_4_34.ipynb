{
  "nbformat": 4,
  "nbformat_minor": 0,
  "metadata": {
    "colab": {
      "provenance": []
    },
    "kernelspec": {
      "name": "python3",
      "display_name": "Python 3"
    },
    "language_info": {
      "name": "python"
    }
  },
  "cells": [
    {
      "cell_type": "code",
      "execution_count": null,
      "metadata": {
        "id": "ggzbnNUcPaEf"
      },
      "outputs": [],
      "source": [
        "import nltk\n",
        "nltk.download('book')\n",
        "from nltk.book import *\n",
        "from nltk.corpus import stopwords"
      ]
    },
    {
      "cell_type": "code",
      "source": [
        "#vocabularios : palabras unicas en un corpus\n",
        "vocab = sorted(set(text1))"
      ],
      "metadata": {
        "id": "-qumQhIEPnhB"
      },
      "execution_count": null,
      "outputs": []
    },
    {
      "cell_type": "code",
      "source": [
        "vocab"
      ],
      "metadata": {
        "id": "v6vNZUJnP5Ri"
      },
      "execution_count": null,
      "outputs": []
    },
    {
      "cell_type": "code",
      "source": [
        "#distribuciones: frecuencia de aparición\n",
        "word_freq = FreqDist(text1)"
      ],
      "metadata": {
        "id": "Fyc4GWi5QQE6"
      },
      "execution_count": null,
      "outputs": []
    },
    {
      "cell_type": "code",
      "source": [
        "word_freq"
      ],
      "metadata": {
        "colab": {
          "base_uri": "https://localhost:8080/"
        },
        "id": "-ZSAkWW0QmNs",
        "outputId": "ddaba224-6d10-4079-9cbf-fddcec330bb6"
      },
      "execution_count": null,
      "outputs": [
        {
          "output_type": "execute_result",
          "data": {
            "text/plain": [
              "FreqDist({',': 18713, 'the': 13721, '.': 6862, 'of': 6536, 'and': 6024, 'a': 4569, 'to': 4542, ';': 4072, 'in': 3916, 'that': 2982, ...})"
            ]
          },
          "metadata": {},
          "execution_count": 7
        }
      ]
    },
    {
      "cell_type": "code",
      "source": [
        "#stopwords: Palabras muy usadas en el lenguaje que usualemente son filtradas en un pipeline de NLP (uselees words)\n",
        "stopwords.words('spanish')"
      ],
      "metadata": {
        "colab": {
          "base_uri": "https://localhost:8080/"
        },
        "id": "bNdF-uqiQX2c",
        "outputId": "0d4b7777-88e5-4dd0-9e7e-4db450d18de0"
      },
      "execution_count": null,
      "outputs": [
        {
          "output_type": "execute_result",
          "data": {
            "text/plain": [
              "['de',\n",
              " 'la',\n",
              " 'que',\n",
              " 'el',\n",
              " 'en',\n",
              " 'y',\n",
              " 'a',\n",
              " 'los',\n",
              " 'del',\n",
              " 'se',\n",
              " 'las',\n",
              " 'por',\n",
              " 'un',\n",
              " 'para',\n",
              " 'con',\n",
              " 'no',\n",
              " 'una',\n",
              " 'su',\n",
              " 'al',\n",
              " 'lo',\n",
              " 'como',\n",
              " 'más',\n",
              " 'pero',\n",
              " 'sus',\n",
              " 'le',\n",
              " 'ya',\n",
              " 'o',\n",
              " 'este',\n",
              " 'sí',\n",
              " 'porque',\n",
              " 'esta',\n",
              " 'entre',\n",
              " 'cuando',\n",
              " 'muy',\n",
              " 'sin',\n",
              " 'sobre',\n",
              " 'también',\n",
              " 'me',\n",
              " 'hasta',\n",
              " 'hay',\n",
              " 'donde',\n",
              " 'quien',\n",
              " 'desde',\n",
              " 'todo',\n",
              " 'nos',\n",
              " 'durante',\n",
              " 'todos',\n",
              " 'uno',\n",
              " 'les',\n",
              " 'ni',\n",
              " 'contra',\n",
              " 'otros',\n",
              " 'ese',\n",
              " 'eso',\n",
              " 'ante',\n",
              " 'ellos',\n",
              " 'e',\n",
              " 'esto',\n",
              " 'mí',\n",
              " 'antes',\n",
              " 'algunos',\n",
              " 'qué',\n",
              " 'unos',\n",
              " 'yo',\n",
              " 'otro',\n",
              " 'otras',\n",
              " 'otra',\n",
              " 'él',\n",
              " 'tanto',\n",
              " 'esa',\n",
              " 'estos',\n",
              " 'mucho',\n",
              " 'quienes',\n",
              " 'nada',\n",
              " 'muchos',\n",
              " 'cual',\n",
              " 'poco',\n",
              " 'ella',\n",
              " 'estar',\n",
              " 'estas',\n",
              " 'algunas',\n",
              " 'algo',\n",
              " 'nosotros',\n",
              " 'mi',\n",
              " 'mis',\n",
              " 'tú',\n",
              " 'te',\n",
              " 'ti',\n",
              " 'tu',\n",
              " 'tus',\n",
              " 'ellas',\n",
              " 'nosotras',\n",
              " 'vosotros',\n",
              " 'vosotras',\n",
              " 'os',\n",
              " 'mío',\n",
              " 'mía',\n",
              " 'míos',\n",
              " 'mías',\n",
              " 'tuyo',\n",
              " 'tuya',\n",
              " 'tuyos',\n",
              " 'tuyas',\n",
              " 'suyo',\n",
              " 'suya',\n",
              " 'suyos',\n",
              " 'suyas',\n",
              " 'nuestro',\n",
              " 'nuestra',\n",
              " 'nuestros',\n",
              " 'nuestras',\n",
              " 'vuestro',\n",
              " 'vuestra',\n",
              " 'vuestros',\n",
              " 'vuestras',\n",
              " 'esos',\n",
              " 'esas',\n",
              " 'estoy',\n",
              " 'estás',\n",
              " 'está',\n",
              " 'estamos',\n",
              " 'estáis',\n",
              " 'están',\n",
              " 'esté',\n",
              " 'estés',\n",
              " 'estemos',\n",
              " 'estéis',\n",
              " 'estén',\n",
              " 'estaré',\n",
              " 'estarás',\n",
              " 'estará',\n",
              " 'estaremos',\n",
              " 'estaréis',\n",
              " 'estarán',\n",
              " 'estaría',\n",
              " 'estarías',\n",
              " 'estaríamos',\n",
              " 'estaríais',\n",
              " 'estarían',\n",
              " 'estaba',\n",
              " 'estabas',\n",
              " 'estábamos',\n",
              " 'estabais',\n",
              " 'estaban',\n",
              " 'estuve',\n",
              " 'estuviste',\n",
              " 'estuvo',\n",
              " 'estuvimos',\n",
              " 'estuvisteis',\n",
              " 'estuvieron',\n",
              " 'estuviera',\n",
              " 'estuvieras',\n",
              " 'estuviéramos',\n",
              " 'estuvierais',\n",
              " 'estuvieran',\n",
              " 'estuviese',\n",
              " 'estuvieses',\n",
              " 'estuviésemos',\n",
              " 'estuvieseis',\n",
              " 'estuviesen',\n",
              " 'estando',\n",
              " 'estado',\n",
              " 'estada',\n",
              " 'estados',\n",
              " 'estadas',\n",
              " 'estad',\n",
              " 'he',\n",
              " 'has',\n",
              " 'ha',\n",
              " 'hemos',\n",
              " 'habéis',\n",
              " 'han',\n",
              " 'haya',\n",
              " 'hayas',\n",
              " 'hayamos',\n",
              " 'hayáis',\n",
              " 'hayan',\n",
              " 'habré',\n",
              " 'habrás',\n",
              " 'habrá',\n",
              " 'habremos',\n",
              " 'habréis',\n",
              " 'habrán',\n",
              " 'habría',\n",
              " 'habrías',\n",
              " 'habríamos',\n",
              " 'habríais',\n",
              " 'habrían',\n",
              " 'había',\n",
              " 'habías',\n",
              " 'habíamos',\n",
              " 'habíais',\n",
              " 'habían',\n",
              " 'hube',\n",
              " 'hubiste',\n",
              " 'hubo',\n",
              " 'hubimos',\n",
              " 'hubisteis',\n",
              " 'hubieron',\n",
              " 'hubiera',\n",
              " 'hubieras',\n",
              " 'hubiéramos',\n",
              " 'hubierais',\n",
              " 'hubieran',\n",
              " 'hubiese',\n",
              " 'hubieses',\n",
              " 'hubiésemos',\n",
              " 'hubieseis',\n",
              " 'hubiesen',\n",
              " 'habiendo',\n",
              " 'habido',\n",
              " 'habida',\n",
              " 'habidos',\n",
              " 'habidas',\n",
              " 'soy',\n",
              " 'eres',\n",
              " 'es',\n",
              " 'somos',\n",
              " 'sois',\n",
              " 'son',\n",
              " 'sea',\n",
              " 'seas',\n",
              " 'seamos',\n",
              " 'seáis',\n",
              " 'sean',\n",
              " 'seré',\n",
              " 'serás',\n",
              " 'será',\n",
              " 'seremos',\n",
              " 'seréis',\n",
              " 'serán',\n",
              " 'sería',\n",
              " 'serías',\n",
              " 'seríamos',\n",
              " 'seríais',\n",
              " 'serían',\n",
              " 'era',\n",
              " 'eras',\n",
              " 'éramos',\n",
              " 'erais',\n",
              " 'eran',\n",
              " 'fui',\n",
              " 'fuiste',\n",
              " 'fue',\n",
              " 'fuimos',\n",
              " 'fuisteis',\n",
              " 'fueron',\n",
              " 'fuera',\n",
              " 'fueras',\n",
              " 'fuéramos',\n",
              " 'fuerais',\n",
              " 'fueran',\n",
              " 'fuese',\n",
              " 'fueses',\n",
              " 'fuésemos',\n",
              " 'fueseis',\n",
              " 'fuesen',\n",
              " 'sintiendo',\n",
              " 'sentido',\n",
              " 'sentida',\n",
              " 'sentidos',\n",
              " 'sentidas',\n",
              " 'siente',\n",
              " 'sentid',\n",
              " 'tengo',\n",
              " 'tienes',\n",
              " 'tiene',\n",
              " 'tenemos',\n",
              " 'tenéis',\n",
              " 'tienen',\n",
              " 'tenga',\n",
              " 'tengas',\n",
              " 'tengamos',\n",
              " 'tengáis',\n",
              " 'tengan',\n",
              " 'tendré',\n",
              " 'tendrás',\n",
              " 'tendrá',\n",
              " 'tendremos',\n",
              " 'tendréis',\n",
              " 'tendrán',\n",
              " 'tendría',\n",
              " 'tendrías',\n",
              " 'tendríamos',\n",
              " 'tendríais',\n",
              " 'tendrían',\n",
              " 'tenía',\n",
              " 'tenías',\n",
              " 'teníamos',\n",
              " 'teníais',\n",
              " 'tenían',\n",
              " 'tuve',\n",
              " 'tuviste',\n",
              " 'tuvo',\n",
              " 'tuvimos',\n",
              " 'tuvisteis',\n",
              " 'tuvieron',\n",
              " 'tuviera',\n",
              " 'tuvieras',\n",
              " 'tuviéramos',\n",
              " 'tuvierais',\n",
              " 'tuvieran',\n",
              " 'tuviese',\n",
              " 'tuvieses',\n",
              " 'tuviésemos',\n",
              " 'tuvieseis',\n",
              " 'tuviesen',\n",
              " 'teniendo',\n",
              " 'tenido',\n",
              " 'tenida',\n",
              " 'tenidos',\n",
              " 'tenidas',\n",
              " 'tened']"
            ]
          },
          "metadata": {},
          "execution_count": 22
        }
      ]
    },
    {
      "cell_type": "code",
      "source": [
        "def stopwords_percentage(text):\n",
        "\n",
        "  stopwd = stopwords.words('english')\n",
        "  # content = [w  for w in text if w.lower() not in stopwd]\n",
        "  content = [w  for w in text if w.lower()  in stopwd]\n",
        "  return len(content)/len(text)"
      ],
      "metadata": {
        "id": "SDMi1vKWRfKZ"
      },
      "execution_count": null,
      "outputs": []
    },
    {
      "cell_type": "code",
      "source": [
        "stopwords_percentage(text1)"
      ],
      "metadata": {
        "colab": {
          "base_uri": "https://localhost:8080/"
        },
        "id": "g2Ldf-u6SGp9",
        "outputId": "26e79a30-fa8f-4608-d915-cc4e25666e49"
      },
      "execution_count": null,
      "outputs": [
        {
          "output_type": "execute_result",
          "data": {
            "text/plain": [
              "0.4137045230600531"
            ]
          },
          "metadata": {},
          "execution_count": 28
        }
      ]
    },
    {
      "cell_type": "markdown",
      "source": [
        "Lexicon enriquecidos"
      ],
      "metadata": {
        "id": "r9gztiYCS_H5"
      }
    },
    {
      "cell_type": "code",
      "source": [
        "from nltk.corpus import swadesh\n",
        "print(swadesh.fileids())"
      ],
      "metadata": {
        "colab": {
          "base_uri": "https://localhost:8080/"
        },
        "id": "NCzjy2S7S-b1",
        "outputId": "053e6b11-266f-4eeb-dd1e-2f58d409cf93"
      },
      "execution_count": null,
      "outputs": [
        {
          "output_type": "stream",
          "name": "stdout",
          "text": [
            "['be', 'bg', 'bs', 'ca', 'cs', 'cu', 'de', 'en', 'es', 'fr', 'hr', 'it', 'la', 'mk', 'nl', 'pl', 'pt', 'ro', 'ru', 'sk', 'sl', 'sr', 'sw', 'uk']\n"
          ]
        }
      ]
    },
    {
      "cell_type": "code",
      "source": [
        "print(swadesh.words('es'))"
      ],
      "metadata": {
        "colab": {
          "base_uri": "https://localhost:8080/"
        },
        "id": "nksWYnSTTKmI",
        "outputId": "ef52b49d-a458-4423-a981-457055aafc95"
      },
      "execution_count": null,
      "outputs": [
        {
          "output_type": "stream",
          "name": "stdout",
          "text": [
            "['yo', 'tú, usted', 'él', 'nosotros', 'vosotros, ustedes', 'ellos, ellas', 'este', 'ese, aquel', 'aquí, acá', 'ahí, allí, allá', 'quien', 'que', 'donde', 'cuando', 'como', 'no', 'todo', 'muchos', 'algunos, unos', 'poco', 'otro', 'uno', 'dos', 'tres', 'cuatro', 'cinco', 'grande', 'largo', 'ancho', 'gordo', 'pesado', 'pequeño', 'corto', 'estrecho, angosto', 'delgado, flaco', 'mujer', 'hombre', 'hombre', 'niño', 'esposa, mujer', 'esposo, marido', 'madre', 'padre', 'animal', 'pez, pescado', 'ave, pájaro', 'perro', 'piojo', 'serpiente, culebra', 'gusano', 'árbol', 'bosque', 'palo', 'fruta', 'semilla', 'hoja', 'raíz', 'corteza', 'flor', 'hierba, pasto', 'cuerda', 'piel', 'carne', 'sangre', 'hueso', 'grasa', 'huevo', 'cuerno', 'cola', 'pluma', 'cabello, pelo', 'cabeza', 'oreja', 'ojo', 'nariz', 'boca', 'diente', 'lengua', 'uña', 'pie', 'pierna', 'rodilla', 'mano', 'ala', 'barriga, vientre, panza', 'entrañas, tripas', 'cuello', 'espalda', 'pecho, seno', 'corazón', 'hígado', 'beber, tomar', 'comer', 'morder', 'chupar', 'escupir', 'vomitar', 'soplar', 'respirar', 'reír', 'ver', 'oír', 'saber', 'pensar', 'oler', 'temer', 'dormir', 'vivir', 'morir', 'matar', 'pelear', 'cazar', 'golpear', 'cortar', 'partir', 'apuñalar', 'arañar, rascar', 'cavar', 'nadar', 'volar', 'caminar', 'venir', 'echarse, acostarse, tenderse', 'sentarse', 'estar de pie', 'voltear', 'caer', 'dar', 'sostener', 'apretar', 'frotar', 'lavar', 'limpiar', 'tirar', 'empujar', 'tirar', 'atar', 'coser', 'contar', 'decir', 'cantar', 'jugar', 'flotar', 'fluir', 'helar', 'hincharse', 'sol', 'luna', 'estrella', 'agua', 'lluvia', 'río', 'lago', 'mar', 'sal', 'piedra', 'arena', 'polvo', 'tierra', 'nube', 'niebla', 'cielo', 'viento', 'nieve', 'hielo', 'humo', 'fuego', 'cenizas', 'quemar', 'camino', 'montaña', 'rojo', 'verde', 'amarillo', 'blanco', 'negro', 'noche', 'día', 'año', 'cálido, tibio', 'frío', 'lleno', 'nuevo', 'viejo', 'bueno', 'malo', 'podrido', 'sucio', 'recto', 'redondo', 'afilado', 'desafilado', 'suave, liso', 'mojado', 'seco', 'correcto', 'cerca', 'lejos', 'derecha', 'izquierda', 'a, en, ante', 'en', 'con', 'y', 'si', 'porque', 'nombre']\n"
          ]
        }
      ]
    },
    {
      "cell_type": "code",
      "source": [
        "fr2es = swadesh.entries(['fr','es'])\n",
        "print(fr2es)"
      ],
      "metadata": {
        "colab": {
          "base_uri": "https://localhost:8080/"
        },
        "id": "WMJvz4QJTTwJ",
        "outputId": "43079377-31bd-43f7-ca69-333a15766594"
      },
      "execution_count": null,
      "outputs": [
        {
          "output_type": "stream",
          "name": "stdout",
          "text": [
            "[('je', 'yo'), ('tu, vous', 'tú, usted'), ('il', 'él'), ('nous', 'nosotros'), ('vous', 'vosotros, ustedes'), ('ils, elles', 'ellos, ellas'), ('ceci', 'este'), ('cela', 'ese, aquel'), ('ici', 'aquí, acá'), ('là', 'ahí, allí, allá'), ('qui', 'quien'), ('quoi', 'que'), ('où', 'donde'), ('quand', 'cuando'), ('comment', 'como'), ('ne...pas', 'no'), ('tout', 'todo'), ('plusieurs', 'muchos'), ('quelques', 'algunos, unos'), ('peu', 'poco'), ('autre', 'otro'), ('un', 'uno'), ('deux', 'dos'), ('trois', 'tres'), ('quatre', 'cuatro'), ('cinq', 'cinco'), ('grand', 'grande'), ('long', 'largo'), ('large', 'ancho'), ('épais', 'gordo'), ('lourd', 'pesado'), ('petit', 'pequeño'), ('court', 'corto'), ('étroit', 'estrecho, angosto'), ('mince', 'delgado, flaco'), ('femme', 'mujer'), ('homme', 'hombre'), ('homme', 'hombre'), ('enfant', 'niño'), ('femme, épouse', 'esposa, mujer'), ('mari, époux', 'esposo, marido'), ('mère', 'madre'), ('père', 'padre'), ('animal', 'animal'), ('poisson', 'pez, pescado'), ('oiseau', 'ave, pájaro'), ('chien', 'perro'), ('pou', 'piojo'), ('serpent', 'serpiente, culebra'), ('ver', 'gusano'), ('arbre', 'árbol'), ('forêt', 'bosque'), ('bâton', 'palo'), ('fruit', 'fruta'), ('graine', 'semilla'), ('feuille', 'hoja'), ('racine', 'raíz'), ('écorce', 'corteza'), ('fleur', 'flor'), ('herbe', 'hierba, pasto'), ('corde', 'cuerda'), ('peau', 'piel'), ('viande', 'carne'), ('sang', 'sangre'), ('os', 'hueso'), ('graisse', 'grasa'), ('œuf', 'huevo'), ('corne', 'cuerno'), ('queue', 'cola'), ('plume', 'pluma'), ('cheveu', 'cabello, pelo'), ('tête', 'cabeza'), ('oreille', 'oreja'), ('œil', 'ojo'), ('nez', 'nariz'), ('bouche', 'boca'), ('dent', 'diente'), ('langue', 'lengua'), ('ongle', 'uña'), ('pied', 'pie'), ('jambe', 'pierna'), ('genou', 'rodilla'), ('main', 'mano'), ('aile', 'ala'), ('ventre', 'barriga, vientre, panza'), ('entrailles', 'entrañas, tripas'), ('cou', 'cuello'), ('dos', 'espalda'), ('sein, poitrine', 'pecho, seno'), ('cœur', 'corazón'), ('foie', 'hígado'), ('boire', 'beber, tomar'), ('manger', 'comer'), ('mordre', 'morder'), ('sucer', 'chupar'), ('cracher', 'escupir'), ('vomir', 'vomitar'), ('souffler', 'soplar'), ('respirer', 'respirar'), ('rire', 'reír'), ('voir', 'ver'), ('entendre', 'oír'), ('savoir', 'saber'), ('penser', 'pensar'), ('sentir', 'oler'), ('craindre, avoir peur', 'temer'), ('dormir', 'dormir'), ('vivre', 'vivir'), ('mourir', 'morir'), ('tuer', 'matar'), ('se battre', 'pelear'), ('chasser', 'cazar'), ('frapper', 'golpear'), ('couper', 'cortar'), ('fendre', 'partir'), ('poignarder', 'apuñalar'), ('gratter', 'arañar, rascar'), ('creuser', 'cavar'), ('nager', 'nadar'), ('voler', 'volar'), ('marcher', 'caminar'), ('venir', 'venir'), (\"s'étendre\", 'echarse, acostarse, tenderse'), (\"s'asseoir\", 'sentarse'), ('se lever', 'estar de pie'), ('tourner', 'voltear'), ('tomber', 'caer'), ('donner', 'dar'), ('tenir', 'sostener'), ('serrer', 'apretar'), ('frotter', 'frotar'), ('laver', 'lavar'), ('essuyer', 'limpiar'), ('tirer', 'tirar'), ('pousser', 'empujar'), ('jeter', 'tirar'), ('lier', 'atar'), ('coudre', 'coser'), ('compter', 'contar'), ('dire', 'decir'), ('chanter', 'cantar'), ('jouer', 'jugar'), ('flotter', 'flotar'), ('couler', 'fluir'), ('geler', 'helar'), ('gonfler', 'hincharse'), ('soleil', 'sol'), ('lune', 'luna'), ('étoile', 'estrella'), ('eau', 'agua'), ('pluie', 'lluvia'), ('rivière', 'río'), ('lac', 'lago'), ('mer', 'mar'), ('sel', 'sal'), ('pierre', 'piedra'), ('sable', 'arena'), ('poussière', 'polvo'), ('terre', 'tierra'), ('nuage', 'nube'), ('brouillard', 'niebla'), ('ciel', 'cielo'), ('vent', 'viento'), ('neige', 'nieve'), ('glace', 'hielo'), ('fumée', 'humo'), ('feu', 'fuego'), ('cendres', 'cenizas'), ('brûler', 'quemar'), ('route', 'camino'), ('montagne', 'montaña'), ('rouge', 'rojo'), ('vert', 'verde'), ('jaune', 'amarillo'), ('blanc', 'blanco'), ('noir', 'negro'), ('nuit', 'noche'), ('jour', 'día'), ('an, année', 'año'), ('chaud', 'cálido, tibio'), ('froid', 'frío'), ('plein', 'lleno'), ('nouveau', 'nuevo'), ('vieux', 'viejo'), ('bon', 'bueno'), ('mauvais', 'malo'), ('pourri', 'podrido'), ('sale', 'sucio'), ('droit', 'recto'), ('rond', 'redondo'), ('tranchant, pointu, aigu', 'afilado'), ('émoussé', 'desafilado'), ('lisse', 'suave, liso'), ('mouillé', 'mojado'), ('sec', 'seco'), ('juste, correct', 'correcto'), ('proche', 'cerca'), ('loin', 'lejos'), ('à droite', 'derecha'), ('à gauche', 'izquierda'), ('à', 'a, en, ante'), ('dans', 'en'), ('avec', 'con'), ('et', 'y'), ('si', 'si'), ('parce que', 'porque'), ('nom', 'nombre')]\n"
          ]
        }
      ]
    },
    {
      "cell_type": "code",
      "source": [
        "translate = dict(fr2es)\n",
        "translate['chien']"
      ],
      "metadata": {
        "colab": {
          "base_uri": "https://localhost:8080/",
          "height": 35
        },
        "id": "zI_tFJCXTeRF",
        "outputId": "2f410fb3-c1fe-4d94-a267-1ad398a6ddcb"
      },
      "execution_count": null,
      "outputs": [
        {
          "output_type": "execute_result",
          "data": {
            "text/plain": [
              "'perro'"
            ],
            "application/vnd.google.colaboratory.intrinsic+json": {
              "type": "string"
            }
          },
          "metadata": {},
          "execution_count": 34
        }
      ]
    },
    {
      "cell_type": "code",
      "source": [
        "translate['jeter']"
      ],
      "metadata": {
        "colab": {
          "base_uri": "https://localhost:8080/",
          "height": 35
        },
        "id": "BGFi4XRqTlQD",
        "outputId": "9f17e372-5281-4379-d899-ebf88c750f7b"
      },
      "execution_count": null,
      "outputs": [
        {
          "output_type": "execute_result",
          "data": {
            "text/plain": [
              "'tirar'"
            ],
            "application/vnd.google.colaboratory.intrinsic+json": {
              "type": "string"
            }
          },
          "metadata": {},
          "execution_count": 35
        }
      ]
    },
    {
      "cell_type": "code",
      "source": [
        "import nltk\n",
        "\n",
        "nltk.download('omw-1.4')\n",
        "nltk.download('wordnet')\n",
        "from nltk.corpus import wordnet as wn"
      ],
      "metadata": {
        "colab": {
          "base_uri": "https://localhost:8080/"
        },
        "id": "13VWqFVoZsrH",
        "outputId": "395302a6-d523-4b08-cab6-27d465fcd43a"
      },
      "execution_count": null,
      "outputs": [
        {
          "output_type": "stream",
          "name": "stderr",
          "text": [
            "[nltk_data] Downloading package omw-1.4 to /root/nltk_data...\n",
            "[nltk_data]   Package omw-1.4 is already up-to-date!\n",
            "[nltk_data] Downloading package wordnet to /root/nltk_data...\n",
            "[nltk_data]   Package wordnet is already up-to-date!\n"
          ]
        }
      ]
    },
    {
      "cell_type": "markdown",
      "source": [
        "# synsets: grupo sinonimos"
      ],
      "metadata": {
        "id": "jCFv-ntFaAQK"
      }
    },
    {
      "cell_type": "code",
      "source": [
        "ss = wn.synsets('carro', lang = 'spa')"
      ],
      "metadata": {
        "id": "cS4BL7z_aF52"
      },
      "execution_count": null,
      "outputs": []
    },
    {
      "cell_type": "code",
      "source": [
        "ss"
      ],
      "metadata": {
        "colab": {
          "base_uri": "https://localhost:8080/"
        },
        "id": "_KBe6DUaacZI",
        "outputId": "5d48c7a4-f11f-4595-f773-73be0a4baf2f"
      },
      "execution_count": null,
      "outputs": [
        {
          "output_type": "execute_result",
          "data": {
            "text/plain": [
              "[Synset('car.n.01'),\n",
              " Synset('carriage.n.04'),\n",
              " Synset('carrier.n.02'),\n",
              " Synset('cart.n.01'),\n",
              " Synset('chariot.n.02'),\n",
              " Synset('cartload.n.01')]"
            ]
          },
          "metadata": {},
          "execution_count": 24
        }
      ]
    },
    {
      "cell_type": "code",
      "source": [
        "#Explorar el synsets\n",
        "for syn in ss:\n",
        "  print(syn.name(),' : ', syn.definition())\n",
        "  for name in syn.lemma_names():\n",
        "    print(' * ', name)"
      ],
      "metadata": {
        "colab": {
          "base_uri": "https://localhost:8080/"
        },
        "id": "PvnS_tu5a31s",
        "outputId": "9b8aab03-430c-4a79-81d1-2120d4561ac4"
      },
      "execution_count": null,
      "outputs": [
        {
          "output_type": "stream",
          "name": "stdout",
          "text": [
            "car.n.01  :  a motor vehicle with four wheels; usually propelled by an internal combustion engine\n",
            " *  car\n",
            " *  auto\n",
            " *  automobile\n",
            " *  machine\n",
            " *  motorcar\n",
            "carriage.n.04  :  a machine part that carries something else\n",
            " *  carriage\n",
            "carrier.n.02  :  a self-propelled wheeled vehicle designed specifically to carry something\n",
            " *  carrier\n",
            "cart.n.01  :  a heavy open wagon usually having two wheels and drawn by an animal\n",
            " *  cart\n",
            "chariot.n.02  :  a two-wheeled horse-drawn battle vehicle; used in war and races in ancient Egypt and Greece and Rome\n",
            " *  chariot\n",
            "cartload.n.01  :  the quantity that a cart holds\n",
            " *  cartload\n"
          ]
        }
      ]
    },
    {
      "cell_type": "code",
      "source": [
        "import networkx as nx\n",
        "import matplotlib.pyplot as plt\n",
        "\n",
        "def clousure_graph(synset, fn):\n",
        "  seen = set()\n",
        "  graph = nx.DiGraph()\n",
        "  labels = {}\n",
        "\n",
        "  def recurse(s):\n",
        "    if not s in seen:\n",
        "      seen.add(s)\n",
        "      labels[s.name] = s.name().split('.')[0]\n",
        "      graph.add_node(s.name)\n",
        "      for s1 in fn(s):\n",
        "        graph.add_node(s1.name)\n",
        "        graph.add_edge(s.name, s1.name)\n",
        "        recurse(s1)\n",
        "  recurse(synset)\n",
        "  return graph, labels\n",
        "\n",
        "def draw_text_graph(G, labels):\n",
        "  plt.figure(figsize=(18, 12))\n",
        "  pos = nx.planar_layout(G, scale=18)\n",
        "  nx.draw_networkx_nodes(G, pos, node_color=\"red\", linewidths=0, node_size=500)\n",
        "  nx.draw_networkx_labels(G, pos, font_size=20, labels=labels)\n",
        "  nx.draw_networkx_edges(G, pos)\n",
        "  plt.xticks([])\n",
        "  plt.yticks([])"
      ],
      "metadata": {
        "id": "6WgPFsLtbuH0"
      },
      "execution_count": null,
      "outputs": []
    },
    {
      "cell_type": "markdown",
      "source": [
        "Hyponyms: a word of more specific meaning than a general or superordinate term applicable to it. For example, spoon is a hyponym of cutlery."
      ],
      "metadata": {
        "id": "4Z7feE6Rbw3k"
      }
    },
    {
      "cell_type": "code",
      "source": [
        "ss[0].hyponyms()"
      ],
      "metadata": {
        "id": "0Uc7Zyacb3Xe"
      },
      "execution_count": null,
      "outputs": []
    },
    {
      "cell_type": "code",
      "source": [
        "G, labels = clousure_graph(ss[0], fn = lambda s: s.hyponyms())\n",
        "draw_text_graph(G, labels)"
      ],
      "metadata": {
        "id": "XrbGac5PdTIq"
      },
      "execution_count": null,
      "outputs": []
    },
    {
      "cell_type": "markdown",
      "source": [
        "Hypernyms: \"A hypernym is a word with a general meaning that has basically the same meaning of a more specific word. For example, dog is a hypernym, while collie and chihuahua are more specific subordinate terms"
      ],
      "metadata": {
        "id": "7fcgrQ9yb02v"
      }
    },
    {
      "cell_type": "code",
      "source": [
        "ss[0].hypernyms()"
      ],
      "metadata": {
        "colab": {
          "base_uri": "https://localhost:8080/"
        },
        "id": "qHlE8jqZbuMd",
        "outputId": "2f83da60-7bb8-4327-bb3a-7b4cd206c0a2"
      },
      "execution_count": null,
      "outputs": [
        {
          "output_type": "execute_result",
          "data": {
            "text/plain": [
              "[Synset('motor_vehicle.n.01')]"
            ]
          },
          "metadata": {},
          "execution_count": 27
        }
      ]
    },
    {
      "cell_type": "code",
      "source": [
        "G, labels = clousure_graph(ss[0], fn = lambda s: s.hypernyms())\n",
        "draw_text_graph(G, labels)"
      ],
      "metadata": {
        "id": "4owWfKa5d77L"
      },
      "execution_count": null,
      "outputs": []
    },
    {
      "cell_type": "markdown",
      "source": [
        "# *Similitud Semantica*"
      ],
      "metadata": {
        "id": "a2lry5mxfnsW"
      }
    },
    {
      "cell_type": "code",
      "source": [
        "def show_syns(word):\n",
        "  ss = wn.synsets(word, lang='spa')\n",
        "  for syn in ss:\n",
        "    print(syn.name(),' : ',syn.definition())\n",
        "    for name in syn.lemma_names():\n",
        "      print('*', name)\n",
        "  return(ss)\n",
        "\n",
        "ss = show_syns('perro')\n",
        "ss2 = show_syns('gato')\n",
        "ss3 = show_syns('animal')\n",
        "\n",
        "perro = ss[0]\n",
        "gato = ss2[0]\n",
        "animal = ss3[0]\n",
        "\n",
        "animal.path_similarity(perro)\n",
        "\n",
        "animal.path_similarity(gato)"
      ],
      "metadata": {
        "id": "uL-lxAkHfhWX"
      },
      "execution_count": null,
      "outputs": []
    }
  ]
}